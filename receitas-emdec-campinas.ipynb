{
 "cells": [
  {
   "cell_type": "code",
   "execution_count": 1,
   "metadata": {
    "collapsed": true
   },
   "outputs": [],
   "source": [
    "import pandas as pd\n",
    "import matplotlib.pyplot as plt\n",
    "%matplotlib inline"
   ]
  },
  {
   "cell_type": "code",
   "execution_count": 51,
   "metadata": {
    "scrolled": true
   },
   "outputs": [
    {
     "data": {
      "text/html": [
       "<div>\n",
       "<style>\n",
       "    .dataframe thead tr:only-child th {\n",
       "        text-align: right;\n",
       "    }\n",
       "\n",
       "    .dataframe thead th {\n",
       "        text-align: left;\n",
       "    }\n",
       "\n",
       "    .dataframe tbody tr th {\n",
       "        vertical-align: top;\n",
       "    }\n",
       "</style>\n",
       "<table border=\"1\" class=\"dataframe\">\n",
       "  <thead>\n",
       "    <tr style=\"text-align: right;\">\n",
       "      <th></th>\n",
       "      <th>Ano</th>\n",
       "      <th>Mês</th>\n",
       "      <th>Receita</th>\n",
       "      <th>Valor</th>\n",
       "    </tr>\n",
       "  </thead>\n",
       "  <tbody>\n",
       "    <tr>\n",
       "      <th>0</th>\n",
       "      <td>receitas_emdec_2012.csv</td>\n",
       "      <td>receitas_abril_2012.csv</td>\n",
       "      <td>Descrição da Receita</td>\n",
       "      <td>Realizado</td>\n",
       "    </tr>\n",
       "    <tr>\n",
       "      <th>1</th>\n",
       "      <td>receitas_emdec_2012.csv</td>\n",
       "      <td>receitas_abril_2012.csv</td>\n",
       "      <td>CONVÊNIO PMC</td>\n",
       "      <td>0.00</td>\n",
       "    </tr>\n",
       "    <tr>\n",
       "      <th>2</th>\n",
       "      <td>receitas_emdec_2012.csv</td>\n",
       "      <td>receitas_abril_2012.csv</td>\n",
       "      <td>ESTACIONAMENTO ROTATIVO</td>\n",
       "      <td>0.00</td>\n",
       "    </tr>\n",
       "    <tr>\n",
       "      <th>3</th>\n",
       "      <td>receitas_emdec_2012.csv</td>\n",
       "      <td>receitas_abril_2012.csv</td>\n",
       "      <td>MULTAS DE TRÂNSITO</td>\n",
       "      <td>0.00</td>\n",
       "    </tr>\n",
       "    <tr>\n",
       "      <th>4</th>\n",
       "      <td>receitas_emdec_2012.csv</td>\n",
       "      <td>receitas_abril_2012.csv</td>\n",
       "      <td>MULTAS DE TRANSPORTES</td>\n",
       "      <td>0.00</td>\n",
       "    </tr>\n",
       "    <tr>\n",
       "      <th>5</th>\n",
       "      <td>receitas_emdec_2012.csv</td>\n",
       "      <td>receitas_abril_2012.csv</td>\n",
       "      <td>OUTRAS RECEITAS</td>\n",
       "      <td>0.00</td>\n",
       "    </tr>\n",
       "    <tr>\n",
       "      <th>6</th>\n",
       "      <td>receitas_emdec_2012.csv</td>\n",
       "      <td>receitas_abril_2012.csv</td>\n",
       "      <td>PÁTIO DE VEÍCULOS</td>\n",
       "      <td>0.00</td>\n",
       "    </tr>\n",
       "    <tr>\n",
       "      <th>7</th>\n",
       "      <td>receitas_emdec_2012.csv</td>\n",
       "      <td>receitas_abril_2012.csv</td>\n",
       "      <td>RECEITAS FINANCEIRAS</td>\n",
       "      <td>0.00</td>\n",
       "    </tr>\n",
       "    <tr>\n",
       "      <th>8</th>\n",
       "      <td>receitas_emdec_2012.csv</td>\n",
       "      <td>receitas_abril_2012.csv</td>\n",
       "      <td>TAXA DE GERENCIAMENTO INTERCAMP</td>\n",
       "      <td>0.00</td>\n",
       "    </tr>\n",
       "    <tr>\n",
       "      <th>9</th>\n",
       "      <td>receitas_emdec_2012.csv</td>\n",
       "      <td>receitas_abril_2012.csv</td>\n",
       "      <td>TAXA DE TAXI</td>\n",
       "      <td>0.00</td>\n",
       "    </tr>\n",
       "    <tr>\n",
       "      <th>10</th>\n",
       "      <td>receitas_emdec_2012.csv</td>\n",
       "      <td>receitas_abril_2012.csv</td>\n",
       "      <td>VISTORIA DE VEÍCULOS</td>\n",
       "      <td>0.00</td>\n",
       "    </tr>\n",
       "  </tbody>\n",
       "</table>\n",
       "</div>"
      ],
      "text/plain": [
       "                        Ano                      Mês  \\\n",
       "0   receitas_emdec_2012.csv  receitas_abril_2012.csv   \n",
       "1   receitas_emdec_2012.csv  receitas_abril_2012.csv   \n",
       "2   receitas_emdec_2012.csv  receitas_abril_2012.csv   \n",
       "3   receitas_emdec_2012.csv  receitas_abril_2012.csv   \n",
       "4   receitas_emdec_2012.csv  receitas_abril_2012.csv   \n",
       "5   receitas_emdec_2012.csv  receitas_abril_2012.csv   \n",
       "6   receitas_emdec_2012.csv  receitas_abril_2012.csv   \n",
       "7   receitas_emdec_2012.csv  receitas_abril_2012.csv   \n",
       "8   receitas_emdec_2012.csv  receitas_abril_2012.csv   \n",
       "9   receitas_emdec_2012.csv  receitas_abril_2012.csv   \n",
       "10  receitas_emdec_2012.csv  receitas_abril_2012.csv   \n",
       "\n",
       "                            Receita      Valor  \n",
       "0              Descrição da Receita  Realizado  \n",
       "1                      CONVÊNIO PMC       0.00  \n",
       "2           ESTACIONAMENTO ROTATIVO       0.00  \n",
       "3                MULTAS DE TRÂNSITO       0.00  \n",
       "4             MULTAS DE TRANSPORTES       0.00  \n",
       "5                   OUTRAS RECEITAS       0.00  \n",
       "6                 PÁTIO DE VEÍCULOS       0.00  \n",
       "7              RECEITAS FINANCEIRAS       0.00  \n",
       "8   TAXA DE GERENCIAMENTO INTERCAMP       0.00  \n",
       "9                      TAXA DE TAXI       0.00  \n",
       "10             VISTORIA DE VEÍCULOS       0.00  "
      ]
     },
     "execution_count": 51,
     "metadata": {},
     "output_type": "execute_result"
    }
   ],
   "source": [
    "receitas_emdec = pd.read_csv('receitas_emdec.csv', encoding='utf=8')\n",
    "receitas_emdec.head(11)"
   ]
  },
  {
   "cell_type": "markdown",
   "metadata": {},
   "source": [
    "# Multas de trânsito e transportes"
   ]
  },
  {
   "cell_type": "code",
   "execution_count": 12,
   "metadata": {
    "collapsed": true
   },
   "outputs": [],
   "source": [
    "#Filtra os valores de arrecadação das multas de trânsito e transportes por ano e soma\n",
    "\n",
    "ano_2012 = receitas_emdec[receitas_emdec['Ano'] == 'receitas_emdec_2012.csv']\n",
    "multas_transito_2012 = ano_2012[ano_2012['Receita'] == 'MULTAS DE TRÂNSITO']\n",
    "multas_transportes_2012 = ano_2012[ano_2012['Receita'] == 'MULTAS DE TRANSPORTES']\n",
    "total_multas_transito_2012 = multas_transito_2012['Valor'].astype('float64').sum()\n",
    "total_multas_transportes_2012 = multas_transportes_2012['Valor'].astype('float64').sum()\n",
    "total_multas_2012 = total_multas_transito_2012 + total_multas_transportes_2012\n",
    "\n",
    "ano_2013 = receitas_emdec[receitas_emdec['Ano'] == 'receitas_emdec_2013.csv']\n",
    "multas_transito_2013 = ano_2013[ano_2013['Receita'] == 'MULTAS DE TRÂNSITO']\n",
    "multas_transportes_2013 = ano_2013[ano_2013['Receita'] == 'MULTAS DE TRANSPORTES']\n",
    "total_multas_transito_2013 = multas_transito_2013['Valor'].astype('float64').sum()\n",
    "total_multas_transportes_2013 = multas_transportes_2013['Valor'].astype('float64').sum()\n",
    "total_multas_2013 = total_multas_transito_2013 + total_multas_transportes_2013\n",
    "\n",
    "ano_2014 = receitas_emdec[receitas_emdec['Ano'] == 'receitas_emdec_2014.csv']\n",
    "multas_transito_2014 = ano_2014[ano_2014['Receita'] == 'MULTAS DE TRÂNSITO']\n",
    "multas_transportes_2014 = ano_2014[ano_2014['Receita'] == 'MULTAS DE TRANSPORTES']\n",
    "total_multas_transito_2014 = multas_transito_2014['Valor'].astype('float64').sum()\n",
    "total_multas_transportes_2014 = multas_transportes_2014['Valor'].astype('float64').sum()\n",
    "total_multas_2014 = total_multas_transito_2014 + total_multas_transportes_2014\n",
    "\n",
    "ano_2015 = receitas_emdec[receitas_emdec['Ano'] == 'receitas_emdec_2015.csv']\n",
    "multas_transito_2015 = ano_2015[ano_2015['Receita'] == 'MULTAS DE TRÂNSITO']\n",
    "multas_transportes_2015 = ano_2015[ano_2015['Receita'] == 'MULTAS DE TRANSPORTES']\n",
    "total_multas_transito_2015 = multas_transito_2015['Valor'].astype('float64').sum()\n",
    "total_multas_transportes_2015 = multas_transportes_2015['Valor'].astype('float64').sum()\n",
    "total_multas_2015 = total_multas_transito_2015 + total_multas_transportes_2015\n",
    "\n",
    "ano_2016 = receitas_emdec[receitas_emdec['Ano'] == 'receitas_emdec_2016.csv']\n",
    "multas_transito_2016 = ano_2016[ano_2016['Receita'] == 'MULTAS DE TRÂNSITO']\n",
    "multas_transportes_2016 = ano_2016[ano_2016['Receita'] == 'MULTAS DE TRANSPORTES']\n",
    "total_multas_transito_2016 = multas_transito_2016['Valor'].astype('float64').sum()\n",
    "total_multas_transportes_2016 = multas_transportes_2016['Valor'].astype('float64').sum()\n",
    "total_multas_2016 = total_multas_transito_2016 + total_multas_transportes_2016\n",
    "\n",
    "ano_2017 = receitas_emdec[receitas_emdec['Ano'] == 'receitas_emdec_2017.csv']\n",
    "multas_transito_2017 = ano_2017[ano_2017['Receita'] == 'MULTAS DE TRÂNSITO']\n",
    "multas_transportes_2017 = ano_2017[ano_2017['Receita'] == 'MULTAS DE TRANSPORTES']\n",
    "total_multas_transito_2017 = multas_transito_2017['Valor'].astype('float64').sum()\n",
    "total_multas_transportes_2017 = multas_transportes_2017['Valor'].astype('float64').sum()\n",
    "total_multas_2017 = total_multas_transito_2017 + total_multas_transportes_2017\n",
    "\n",
    "ano_2018 = receitas_emdec[receitas_emdec['Ano'] == 'receitas_emdec_2018.csv']\n",
    "multas_transito_2018 = ano_2018[ano_2018['Receita'] == 'MULTAS DE TRÂNSITO']\n",
    "multas_transportes_2018 = ano_2018[ano_2018['Receita'] == 'MULTAS DE TRANSPORTES']\n",
    "total_multas_transito_2018 = multas_transito_2018['Valor'].astype('float64').sum()\n",
    "total_multas_transportes_2018 = multas_transportes_2018['Valor'].astype('float64').sum()\n",
    "total_multas_2018 = total_multas_transito_2018 + total_multas_transportes_2018"
   ]
  },
  {
   "cell_type": "code",
   "execution_count": 16,
   "metadata": {
    "scrolled": false
   },
   "outputs": [
    {
     "data": {
      "text/plain": [
       "7357807.564166668"
      ]
     },
     "execution_count": 16,
     "metadata": {},
     "output_type": "execute_result"
    }
   ],
   "source": [
    "#Valor médio mensal das receitas com multas em 2017\n",
    "\n",
    "total_multas_2017 / 12"
   ]
  },
  {
   "cell_type": "code",
   "execution_count": 15,
   "metadata": {},
   "outputs": [
    {
     "data": {
      "text/plain": [
       "6827215.700000002"
      ]
     },
     "execution_count": 15,
     "metadata": {},
     "output_type": "execute_result"
    }
   ],
   "source": [
    "#Valor médio mensal das receitas com multas em 2017\n",
    "\n",
    "total_multas_2018 / 4"
   ]
  },
  {
   "cell_type": "code",
   "execution_count": 14,
   "metadata": {},
   "outputs": [
    {
     "data": {
      "text/plain": [
       "355152817.94000006"
      ]
     },
     "execution_count": 14,
     "metadata": {},
     "output_type": "execute_result"
    }
   ],
   "source": [
    "#Valor total das receitas com multas de 2012 a 2017\n",
    "\n",
    "total_multas_2012 + total_multas_2013 + total_multas_2014 + total_multas_2015 + total_multas_2016 + total_multas_2017"
   ]
  },
  {
   "cell_type": "code",
   "execution_count": 19,
   "metadata": {
    "collapsed": true
   },
   "outputs": [],
   "source": [
    "#Constrói um dicionário com os dados\n",
    "\n",
    "multas = {'Ano': ['2012', '2013', '2014', '2015', '2016', '2017'],\n",
    "         'Multas transportes': [total_multas_transportes_2012, total_multas_transportes_2013, total_multas_transportes_2014, \n",
    "                                total_multas_transportes_2015, total_multas_transportes_2016, total_multas_transportes_2017],\n",
    "         'Multas trânsito': [total_multas_transito_2012, total_multas_transito_2013, total_multas_transito_2014, \n",
    "                                total_multas_transito_2015, total_multas_transito_2016, total_multas_transito_2017],\n",
    "         'Total': [total_multas_2012, total_multas_2013, total_multas_2014, total_multas_2015, total_multas_2016, total_multas_2017]}"
   ]
  },
  {
   "cell_type": "code",
   "execution_count": 20,
   "metadata": {
    "scrolled": true
   },
   "outputs": [
    {
     "data": {
      "text/html": [
       "<div>\n",
       "<style>\n",
       "    .dataframe thead tr:only-child th {\n",
       "        text-align: right;\n",
       "    }\n",
       "\n",
       "    .dataframe thead th {\n",
       "        text-align: left;\n",
       "    }\n",
       "\n",
       "    .dataframe tbody tr th {\n",
       "        vertical-align: top;\n",
       "    }\n",
       "</style>\n",
       "<table border=\"1\" class=\"dataframe\">\n",
       "  <thead>\n",
       "    <tr style=\"text-align: right;\">\n",
       "      <th></th>\n",
       "      <th>Ano</th>\n",
       "      <th>Multas transportes</th>\n",
       "      <th>Multas trânsito</th>\n",
       "      <th>Total</th>\n",
       "    </tr>\n",
       "  </thead>\n",
       "  <tbody>\n",
       "    <tr>\n",
       "      <th>0</th>\n",
       "      <td>2012</td>\n",
       "      <td>2352869.39</td>\n",
       "      <td>39836662.50</td>\n",
       "      <td>42189531.89</td>\n",
       "    </tr>\n",
       "    <tr>\n",
       "      <th>1</th>\n",
       "      <td>2013</td>\n",
       "      <td>2753085.44</td>\n",
       "      <td>41284755.09</td>\n",
       "      <td>44037840.53</td>\n",
       "    </tr>\n",
       "    <tr>\n",
       "      <th>2</th>\n",
       "      <td>2014</td>\n",
       "      <td>3900413.40</td>\n",
       "      <td>60854704.06</td>\n",
       "      <td>64755117.46</td>\n",
       "    </tr>\n",
       "    <tr>\n",
       "      <th>3</th>\n",
       "      <td>2015</td>\n",
       "      <td>710721.93</td>\n",
       "      <td>60038112.03</td>\n",
       "      <td>60748833.96</td>\n",
       "    </tr>\n",
       "    <tr>\n",
       "      <th>4</th>\n",
       "      <td>2016</td>\n",
       "      <td>3962069.89</td>\n",
       "      <td>51165733.44</td>\n",
       "      <td>55127803.33</td>\n",
       "    </tr>\n",
       "    <tr>\n",
       "      <th>5</th>\n",
       "      <td>2017</td>\n",
       "      <td>6208640.79</td>\n",
       "      <td>82085049.98</td>\n",
       "      <td>88293690.77</td>\n",
       "    </tr>\n",
       "  </tbody>\n",
       "</table>\n",
       "</div>"
      ],
      "text/plain": [
       "    Ano  Multas transportes  Multas trânsito        Total\n",
       "0  2012          2352869.39      39836662.50  42189531.89\n",
       "1  2013          2753085.44      41284755.09  44037840.53\n",
       "2  2014          3900413.40      60854704.06  64755117.46\n",
       "3  2015           710721.93      60038112.03  60748833.96\n",
       "4  2016          3962069.89      51165733.44  55127803.33\n",
       "5  2017          6208640.79      82085049.98  88293690.77"
      ]
     },
     "execution_count": 20,
     "metadata": {},
     "output_type": "execute_result"
    }
   ],
   "source": [
    "#Transforma o dicionário em um dataframe\n",
    "\n",
    "df_total_multas = pd.DataFrame.from_dict(multas)\n",
    "#df_total_multas.set_index('Ano', inplace=True)\n",
    "df_total_multas.head(6)"
   ]
  },
  {
   "cell_type": "code",
   "execution_count": 31,
   "metadata": {
    "collapsed": true
   },
   "outputs": [],
   "source": [
    "#Gera um arquivo CSV com os dados do dataframe\n",
    "\n",
    "df_total_multas.to_csv('multas_transito_emdec_2012_2017.csv', encoding='utf-8')"
   ]
  },
  {
   "cell_type": "code",
   "execution_count": 25,
   "metadata": {
    "scrolled": true
   },
   "outputs": [
    {
     "data": {
      "text/plain": [
       "<matplotlib.axes._subplots.AxesSubplot at 0x1eff556be80>"
      ]
     },
     "execution_count": 25,
     "metadata": {},
     "output_type": "execute_result"
    },
    {
     "data": {
      "image/png": "[encoded data removed]",
      "text/plain": [
       "<matplotlib.figure.Figure at 0x1eff5257898>"
      ]
     },
     "metadata": {},
     "output_type": "display_data"
    }
   ],
   "source": [
    "#Gráfico com o total em multas de 2012 a 2017\n",
    "\n",
    "plt.style.use('ggplot')\n",
    "df_total_multas.plot(kind='bar', y='Total', x='Ano')"
   ]
  },
  {
   "cell_type": "markdown",
   "metadata": {
    "collapsed": true
   },
   "source": [
    "# Pátio de veículos"
   ]
  },
  {
   "cell_type": "code",
   "execution_count": 27,
   "metadata": {
    "collapsed": true
   },
   "outputs": [],
   "source": [
    "#Filtra os valores de arrecadação por ano e faz a soma\n",
    "\n",
    "ano_2012 = receitas_emdec[receitas_emdec['Ano'] == 'receitas_emdec_2012.csv']\n",
    "patio_2012 = ano_2012[ano_2012['Receita'] == 'PÁTIO DE VEÍCULOS']\n",
    "total_patio_2012 = patio_2012['Valor'].astype('float64').sum()\n",
    "\n",
    "ano_2013 = receitas_emdec[receitas_emdec['Ano'] == 'receitas_emdec_2013.csv']\n",
    "patio_2013 = ano_2013[ano_2013['Receita'] == 'PÁTIO DE VEÍCULOS']\n",
    "total_patio_2013 = patio_2013['Valor'].astype('float64').sum()\n",
    "\n",
    "ano_2014 = receitas_emdec[receitas_emdec['Ano'] == 'receitas_emdec_2014.csv']\n",
    "patio_2014 = ano_2014[ano_2014['Receita'] == 'PÁTIO DE VEÍCULOS']\n",
    "total_patio_2014 = patio_2014['Valor'].astype('float64').sum()\n",
    "\n",
    "ano_2015 = receitas_emdec[receitas_emdec['Ano'] == 'receitas_emdec_2015.csv']\n",
    "patio_2015 = ano_2015[ano_2015['Receita'] == 'PÁTIO DE VEÍCULOS']\n",
    "total_patio_2015 = patio_2015['Valor'].astype('float64').sum()\n",
    "\n",
    "ano_2016 = receitas_emdec[receitas_emdec['Ano'] == 'receitas_emdec_2016.csv']\n",
    "patio_2016 = ano_2016[ano_2016['Receita'] == 'PÁTIO DE VEÍCULOS']\n",
    "total_patio_2016 = patio_2016['Valor'].astype('float64').sum()\n",
    "\n",
    "ano_2017 = receitas_emdec[receitas_emdec['Ano'] == 'receitas_emdec_2017.csv']\n",
    "patio_2017 = ano_2017[ano_2017['Receita'] == 'PÁTIO DE VEÍCULOS']\n",
    "total_patio_2017 = patio_2017['Valor'].astype('float64').sum()"
   ]
  },
  {
   "cell_type": "code",
   "execution_count": 28,
   "metadata": {
    "collapsed": true
   },
   "outputs": [],
   "source": [
    "#Constrói um dicionário com os dados\n",
    "\n",
    "patio = {'Ano': ['2012', '2013', '2014', '2015', '2016', '2017'],\n",
    "         'Pátio de veículos': [total_patio_2012, total_patio_2013, total_patio_2014, \n",
    "                   total_patio_2015, total_patio_2016, total_patio_2017]}"
   ]
  },
  {
   "cell_type": "code",
   "execution_count": 29,
   "metadata": {},
   "outputs": [
    {
     "data": {
      "text/html": [
       "<div>\n",
       "<style>\n",
       "    .dataframe thead tr:only-child th {\n",
       "        text-align: right;\n",
       "    }\n",
       "\n",
       "    .dataframe thead th {\n",
       "        text-align: left;\n",
       "    }\n",
       "\n",
       "    .dataframe tbody tr th {\n",
       "        vertical-align: top;\n",
       "    }\n",
       "</style>\n",
       "<table border=\"1\" class=\"dataframe\">\n",
       "  <thead>\n",
       "    <tr style=\"text-align: right;\">\n",
       "      <th></th>\n",
       "      <th>Pátio de veículos</th>\n",
       "    </tr>\n",
       "    <tr>\n",
       "      <th>Ano</th>\n",
       "      <th></th>\n",
       "    </tr>\n",
       "  </thead>\n",
       "  <tbody>\n",
       "    <tr>\n",
       "      <th>2012</th>\n",
       "      <td>3361732.67</td>\n",
       "    </tr>\n",
       "    <tr>\n",
       "      <th>2013</th>\n",
       "      <td>5798370.20</td>\n",
       "    </tr>\n",
       "    <tr>\n",
       "      <th>2014</th>\n",
       "      <td>6371477.59</td>\n",
       "    </tr>\n",
       "    <tr>\n",
       "      <th>2015</th>\n",
       "      <td>10246659.59</td>\n",
       "    </tr>\n",
       "    <tr>\n",
       "      <th>2016</th>\n",
       "      <td>12106385.34</td>\n",
       "    </tr>\n",
       "    <tr>\n",
       "      <th>2017</th>\n",
       "      <td>9707189.12</td>\n",
       "    </tr>\n",
       "  </tbody>\n",
       "</table>\n",
       "</div>"
      ],
      "text/plain": [
       "      Pátio de veículos\n",
       "Ano                    \n",
       "2012         3361732.67\n",
       "2013         5798370.20\n",
       "2014         6371477.59\n",
       "2015        10246659.59\n",
       "2016        12106385.34\n",
       "2017         9707189.12"
      ]
     },
     "execution_count": 29,
     "metadata": {},
     "output_type": "execute_result"
    }
   ],
   "source": [
    "#Transforma o dicionário em um dataframe\n",
    "\n",
    "df_total_patio = pd.DataFrame.from_dict(patio)\n",
    "df_total_patio.set_index('Ano', inplace=True)\n",
    "df_total_patio.head(6)"
   ]
  },
  {
   "cell_type": "code",
   "execution_count": 60,
   "metadata": {
    "collapsed": true
   },
   "outputs": [],
   "source": [
    "#Gera um arquivo CSV com os dados do dataframe\n",
    "\n",
    "df_total_patio.to_csv('arrecadacao_patio_emdec_2012_2017.csv', encoding='utf-8')"
   ]
  },
  {
   "cell_type": "code",
   "execution_count": 30,
   "metadata": {},
   "outputs": [
    {
     "data": {
      "text/plain": [
       "<matplotlib.axes._subplots.AxesSubplot at 0x1eff55cff28>"
      ]
     },
     "execution_count": 30,
     "metadata": {},
     "output_type": "execute_result"
    },
    {
     "data": {
      "image/png": "[encoded data removed]",
      "text/plain": [
       "<matplotlib.figure.Figure at 0x1eff51a26a0>"
      ]
     },
     "metadata": {},
     "output_type": "display_data"
    }
   ],
   "source": [
    "#Gráfico com o total das receitas com o pátio de veículos de 2012 a 2017\n",
    "\n",
    "plt.style.use('ggplot')\n",
    "df_total_patio.plot(kind='bar')"
   ]
  },
  {
   "cell_type": "markdown",
   "metadata": {},
   "source": [
    "# Outras receitas"
   ]
  },
  {
   "cell_type": "code",
   "execution_count": 54,
   "metadata": {
    "collapsed": true
   },
   "outputs": [],
   "source": [
    "#Filtra os valores de arrecadação por ano e faz a soma\n",
    "\n",
    "ano_2012 = receitas_emdec[receitas_emdec['Ano'] == 'receitas_emdec_2012.csv']\n",
    "convenio_2012 = ano_2012[ano_2012['Receita'] == 'CONVÊNIO PMC']\n",
    "total_convenio_2012 = convenio_2012['Valor'].astype('float64').sum()\n",
    "\n",
    "ano_2017 = receitas_emdec[receitas_emdec['Ano'] == 'receitas_emdec_2017.csv']\n",
    "convenio_2017 = ano_2017[ano_2017['Receita'] == 'CONVÊNIO PMC']\n",
    "total_convenio_2017 = convenio_2017['Valor'].astype('float64').sum()"
   ]
  },
  {
   "cell_type": "code",
   "execution_count": 32,
   "metadata": {
    "collapsed": true
   },
   "outputs": [],
   "source": [
    "#Filtra os valores de arrecadação por ano e faz a soma\n",
    "\n",
    "ano_2012 = receitas_emdec[receitas_emdec['Ano'] == 'receitas_emdec_2012.csv']\n",
    "estacionamento_2012 = ano_2012[ano_2012['Receita'] == 'ESTACIONAMENTO ROTATIVO']\n",
    "total_estacionamento_2012 = estacionamento_2012['Valor'].astype('float64').sum()\n",
    "\n",
    "ano_2017 = receitas_emdec[receitas_emdec['Ano'] == 'receitas_emdec_2017.csv']\n",
    "estacionamento_2017 = ano_2017[ano_2017['Receita'] == 'ESTACIONAMENTO ROTATIVO']\n",
    "total_estacionamento_2017 = estacionamento_2017['Valor'].astype('float64').sum()"
   ]
  },
  {
   "cell_type": "code",
   "execution_count": 41,
   "metadata": {
    "collapsed": true
   },
   "outputs": [],
   "source": [
    "#Filtra os valores de arrecadação por ano e faz a soma\n",
    "\n",
    "ano_2012 = receitas_emdec[receitas_emdec['Ano'] == 'receitas_emdec_2012.csv']\n",
    "outras_2012 = ano_2012[ano_2012['Receita'] == 'OUTRAS RECEITAS']\n",
    "total_outras_2012 = outras_2012['Valor'].astype('float64').sum()\n",
    "\n",
    "ano_2017 = receitas_emdec[receitas_emdec['Ano'] == 'receitas_emdec_2017.csv']\n",
    "outras_2017 = ano_2017[ano_2017['Receita'] == 'OUTRAS RECEITAS']\n",
    "total_outras_2017 = outras_2017['Valor'].astype('float64').sum()"
   ]
  },
  {
   "cell_type": "code",
   "execution_count": 34,
   "metadata": {
    "collapsed": true
   },
   "outputs": [],
   "source": [
    "#Filtra os valores de arrecadação por ano e faz a soma\n",
    "\n",
    "ano_2012 = receitas_emdec[receitas_emdec['Ano'] == 'receitas_emdec_2012.csv']\n",
    "patio_2012 = ano_2012[ano_2012['Receita'] == 'PÁTIO DE VEÍCULOS']\n",
    "total_patio_2012 = patio_2012['Valor'].astype('float64').sum()\n",
    "\n",
    "ano_2017 = receitas_emdec[receitas_emdec['Ano'] == 'receitas_emdec_2017.csv']\n",
    "patio_2017 = ano_2017[ano_2017['Receita'] == 'PÁTIO DE VEÍCULOS']\n",
    "total_patio_2017 = patio_2017['Valor'].astype('float64').sum()"
   ]
  },
  {
   "cell_type": "code",
   "execution_count": 35,
   "metadata": {
    "collapsed": true
   },
   "outputs": [],
   "source": [
    "#Filtra os valores de arrecadação por ano e faz a soma\n",
    "\n",
    "ano_2012 = receitas_emdec[receitas_emdec['Ano'] == 'receitas_emdec_2012.csv']\n",
    "financeiras_2012 = ano_2012[ano_2012['Receita'] == 'RECEITAS FINANCEIRAS']\n",
    "total_financeiras_2012 = financeiras_2012['Valor'].astype('float64').sum()\n",
    "\n",
    "ano_2017 = receitas_emdec[receitas_emdec['Ano'] == 'receitas_emdec_2017.csv']\n",
    "financeiras_2017 = ano_2017[ano_2017['Receita'] == 'RECEITAS FINANCEIRAS']\n",
    "total_financeiras_2017 = financeiras_2017['Valor'].astype('float64').sum()"
   ]
  },
  {
   "cell_type": "code",
   "execution_count": 36,
   "metadata": {
    "collapsed": true
   },
   "outputs": [],
   "source": [
    "#Filtra os valores de arrecadação por ano e faz a soma\n",
    "\n",
    "ano_2012 = receitas_emdec[receitas_emdec['Ano'] == 'receitas_emdec_2012.csv']\n",
    "intercamp_2012 = ano_2012[ano_2012['Receita'] == 'TAXA DE GERENCIAMENTO INTERCAMP']\n",
    "total_intercamp_2012 = intercamp_2012['Valor'].astype('float64').sum()\n",
    "\n",
    "ano_2017 = receitas_emdec[receitas_emdec['Ano'] == 'receitas_emdec_2017.csv']\n",
    "intercamp_2017 = ano_2017[ano_2017['Receita'] == 'TAXA DE GERENCIAMENTO INTERCAMP']\n",
    "total_intercamp_2017 = intercamp_2017['Valor'].astype('float64').sum()"
   ]
  },
  {
   "cell_type": "code",
   "execution_count": 37,
   "metadata": {
    "collapsed": true
   },
   "outputs": [],
   "source": [
    "#Filtra os valores de arrecadação por ano e faz a soma\n",
    "\n",
    "ano_2012 = receitas_emdec[receitas_emdec['Ano'] == 'receitas_emdec_2012.csv']\n",
    "taxi_2012 = ano_2012[ano_2012['Receita'] == 'TAXA DE TAXI']\n",
    "total_taxi_2012 = taxi_2012['Valor'].astype('float64').sum()\n",
    "\n",
    "ano_2017 = receitas_emdec[receitas_emdec['Ano'] == 'receitas_emdec_2017.csv']\n",
    "taxi_2017 = ano_2017[ano_2017['Receita'] == 'TAXA DE TAXI']\n",
    "total_taxi_2017 = taxi_2017['Valor'].astype('float64').sum()"
   ]
  },
  {
   "cell_type": "code",
   "execution_count": 38,
   "metadata": {
    "collapsed": true
   },
   "outputs": [],
   "source": [
    "#Filtra os valores de arrecadação por ano e faz a soma\n",
    "\n",
    "ano_2012 = receitas_emdec[receitas_emdec['Ano'] == 'receitas_emdec_2012.csv']\n",
    "vistoria_2012 = ano_2012[ano_2012['Receita'] == 'VISTORIA DE VEÍCULOS']\n",
    "total_vistoria_2012 = vistoria_2012['Valor'].astype('float64').sum()\n",
    "\n",
    "ano_2017 = receitas_emdec[receitas_emdec['Ano'] == 'receitas_emdec_2017.csv']\n",
    "vistoria_2017 = ano_2017[ano_2017['Receita'] == 'VISTORIA DE VEÍCULOS']\n",
    "total_vistoria_2017 = vistoria_2017['Valor'].astype('float64').sum()"
   ]
  },
  {
   "cell_type": "code",
   "execution_count": 55,
   "metadata": {
    "collapsed": true
   },
   "outputs": [],
   "source": [
    "#Constrói um dicionário com os dados\n",
    "\n",
    "total_receitas_2017 = {'Tipo de receita': ['Multas de trânsito', 'Convênio PMC', 'Pátio de veículos', \n",
    "                                           'Taxa de gerenciamento Intercamp', 'Multas de transportes', 'Outras receitas'],\n",
    "\n",
    "         'Valor': [total_multas_2017, total_convenio_2017, total_patio_2017, total_intercamp_2017, total_multas_transportes_2017, \n",
    "                   total_estacionamento_2017 + total_outras_2017 + total_financeiras_2017 + total_taxi_2017 + total_vistoria_2017]}"
   ]
  },
  {
   "cell_type": "code",
   "execution_count": 56,
   "metadata": {},
   "outputs": [
    {
     "data": {
      "text/html": [
       "<div>\n",
       "<style>\n",
       "    .dataframe thead tr:only-child th {\n",
       "        text-align: right;\n",
       "    }\n",
       "\n",
       "    .dataframe thead th {\n",
       "        text-align: left;\n",
       "    }\n",
       "\n",
       "    .dataframe tbody tr th {\n",
       "        vertical-align: top;\n",
       "    }\n",
       "</style>\n",
       "<table border=\"1\" class=\"dataframe\">\n",
       "  <thead>\n",
       "    <tr style=\"text-align: right;\">\n",
       "      <th></th>\n",
       "      <th>Valor</th>\n",
       "    </tr>\n",
       "    <tr>\n",
       "      <th>Tipo de receita</th>\n",
       "      <th></th>\n",
       "    </tr>\n",
       "  </thead>\n",
       "  <tbody>\n",
       "    <tr>\n",
       "      <th>Multas de trânsito</th>\n",
       "      <td>88293690.77</td>\n",
       "    </tr>\n",
       "    <tr>\n",
       "      <th>Convênio PMC</th>\n",
       "      <td>23981045.23</td>\n",
       "    </tr>\n",
       "    <tr>\n",
       "      <th>Pátio de veículos</th>\n",
       "      <td>9707189.12</td>\n",
       "    </tr>\n",
       "    <tr>\n",
       "      <th>Taxa de gerenciamento Intercamp</th>\n",
       "      <td>8615136.13</td>\n",
       "    </tr>\n",
       "    <tr>\n",
       "      <th>Multas de transportes</th>\n",
       "      <td>6208640.79</td>\n",
       "    </tr>\n",
       "    <tr>\n",
       "      <th>Outras receitas</th>\n",
       "      <td>6851814.17</td>\n",
       "    </tr>\n",
       "  </tbody>\n",
       "</table>\n",
       "</div>"
      ],
      "text/plain": [
       "                                       Valor\n",
       "Tipo de receita                             \n",
       "Multas de trânsito               88293690.77\n",
       "Convênio PMC                     23981045.23\n",
       "Pátio de veículos                 9707189.12\n",
       "Taxa de gerenciamento Intercamp   8615136.13\n",
       "Multas de transportes             6208640.79\n",
       "Outras receitas                   6851814.17"
      ]
     },
     "execution_count": 56,
     "metadata": {},
     "output_type": "execute_result"
    }
   ],
   "source": [
    "#Transforma o dicionário em um dataframe\n",
    "\n",
    "df_total_receitas_2017 = pd.DataFrame.from_dict(total_receitas_2017)\n",
    "df_total_receitas_2017.set_index('Tipo de receita', inplace=True)\n",
    "df_total_receitas_2017.head(6)"
   ]
  },
  {
   "cell_type": "code",
   "execution_count": 76,
   "metadata": {
    "collapsed": true
   },
   "outputs": [],
   "source": [
    "#Gera um arquivo CSV com os dados do dataframe\n",
    "\n",
    "df_total_receitas_2017.to_csv('distribuicao_receitas_emdec_2017.csv', encoding='utf-8')"
   ]
  },
  {
   "cell_type": "code",
   "execution_count": 57,
   "metadata": {},
   "outputs": [
    {
     "data": {
      "text/plain": [
       "array([<matplotlib.axes._subplots.AxesSubplot object at 0x000001EFF595E400>], dtype=object)"
      ]
     },
     "execution_count": 57,
     "metadata": {},
     "output_type": "execute_result"
    },
    {
     "data": {
      "image/png": "[encoded data removed]",
      "text/plain": [
       "<matplotlib.figure.Figure at 0x1eff59049e8>"
      ]
     },
     "metadata": {},
     "output_type": "display_data"
    }
   ],
   "source": [
    "#Gráfico com a distribuição das receitas em 2017\n",
    "\n",
    "df_total_receitas_2017.plot(kind='pie', subplots=True)"
   ]
  }
 ],
 "metadata": {
  "kernelspec": {
   "display_name": "Python 3",
   "language": "python",
   "name": "python3"
  },
  "language_info": {
   "codemirror_mode": {
    "name": "ipython",
    "version": 3
   },
   "file_extension": ".py",
   "mimetype": "text/x-python",
   "name": "python",
   "nbconvert_exporter": "python",
   "pygments_lexer": "ipython3",
   "version": "3.6.3"
  }
 },
 "nbformat": 4,
 "nbformat_minor": 2
}
